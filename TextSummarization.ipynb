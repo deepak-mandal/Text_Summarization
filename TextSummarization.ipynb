{
 "cells": [
  {
   "cell_type": "code",
   "execution_count": 22,
   "id": "87451f13",
   "metadata": {},
   "outputs": [
    {
     "name": "stdout",
     "output_type": "stream",
     "text": [
      "\n",
      "Creating short, accurate, and fluent summary of a longer text document,\n",
      "by distilling the most important information from a source text.\n",
      "\n"
     ]
    }
   ],
   "source": [
    "print('''\n",
    "Creating short, accurate, and fluent summary of a longer text document,\n",
    "by distilling the most important information from a source text.\n",
    "''')"
   ]
  },
  {
   "cell_type": "markdown",
   "id": "dc2fc96f",
   "metadata": {},
   "source": [
    "# Extracting Text from link"
   ]
  },
  {
   "cell_type": "code",
   "execution_count": 2,
   "id": "81333e93",
   "metadata": {},
   "outputs": [],
   "source": [
    "import bs4"
   ]
  },
  {
   "cell_type": "code",
   "execution_count": 3,
   "id": "6fecffed",
   "metadata": {},
   "outputs": [],
   "source": [
    "import requests"
   ]
  },
  {
   "cell_type": "code",
   "execution_count": 4,
   "id": "78e99437",
   "metadata": {},
   "outputs": [],
   "source": [
    "url = \"https://deepak-mandal.github.io\""
   ]
  },
  {
   "cell_type": "code",
   "execution_count": 5,
   "id": "6bdb05b1",
   "metadata": {},
   "outputs": [],
   "source": [
    "data = requests.get(url)"
   ]
  },
  {
   "cell_type": "code",
   "execution_count": 6,
   "id": "ed288e1b",
   "metadata": {},
   "outputs": [],
   "source": [
    "soup = bs4.BeautifulSoup(data.text, 'html.parser')"
   ]
  },
  {
   "cell_type": "code",
   "execution_count": 7,
   "id": "c41bd76a",
   "metadata": {},
   "outputs": [
    {
     "name": "stdout",
     "output_type": "stream",
     "text": [
      "<!DOCTYPE html>\n",
      "<html lang=\"en\">\n",
      " <head>\n",
      "  <title>\n",
      "   Deepak\n",
      "  </title>\n",
      "  <link href=\"style.css\" rel=\"stylesheet\"/>\n",
      "  <!--must be after bootstrap.min.css link-->\n",
      "  <link href=\"./theme/img/dkm.jpeg\" rel=\"icon\"/>\n",
      "  <link href=\"//fonts.googleapis.com/css?family=Source+Sans+Pro:300,400,700,400italic\" rel=\"stylesheet\" type=\"text/css\"/>\n",
      "  <link href=\"./theme/stylesheet/style.min.css\" rel=\"stylesheet\" type=\"text/css\"/>\n",
      "  <link href=\"./theme/pygments/github.min.css\" rel=\"stylesheet\" type=\"text/css\"/>\n",
      "  <link href=\"./theme/font-awesome/css/font-awesome.min.css\" rel=\"stylesheet\" type=\"text/css\"/>\n",
      "  <meta charset=\"utf-8\"/>\n",
      "  <meta content=\"IE=edge\" http-equiv=\"X-UA-Compatible\">\n",
      "   <meta content=\"True\" name=\"HandheldFriendly\"/>\n",
      "   <meta content=\"width=device-width, initial-scale=1.0\" name=\"viewport\"/>\n",
      "   <meta content=\"\" name=\"robots\"/>\n",
      "   <meta content=\"Deepak\" name=\"author\"/>\n",
      "   <meta content=\"\" name=\"description\"/>\n",
      "   <meta content=\"Deepak\" name=\"Keywords\"/>\n",
      "   <meta content=\"Deepak\" property=\"og:site_name\"/>\n",
      "   <meta content=\"blog\" property=\"og:type\"/>\n",
      "   <meta content=\"Deepak\" property=\"og:title\"/>\n",
      "   <meta content=\"\" property=\"og:description\"/>\n",
      "   <meta content=\"en_US\" property=\"og:locale\"/>\n",
      "   <meta content=\".\" property=\"og:url\"/>\n",
      "  </meta>\n",
      " </head>\n",
      " <body>\n",
      "  <aside>\n",
      "   <div>\n",
      "    <a>\n",
      "     <img alt=\"\" src=\"./theme/img/dkm.jpeg\" title=\"\"/>\n",
      "    </a>\n",
      "    <ul class=\"social\">\n",
      "     <li>\n",
      "      <a class=\"sc-github\" href=\"https://drive.google.com/drive/folders/1ldr-ni5ocNDELhasuICZrsLyUERmhjQP?usp=sharing\" target=\"_blank\">\n",
      "       <i class=\"fa fa-file\">\n",
      "       </i>\n",
      "      </a>\n",
      "     </li>\n",
      "     <li>\n",
      "      <a class=\"sc-github\" href=\"https://github.com/deepak-mandal\" target=\"_blank\">\n",
      "       <i class=\"fa fa-github\">\n",
      "       </i>\n",
      "      </a>\n",
      "     </li>\n",
      "     <li>\n",
      "      <a class=\"sc-github\" href=\"https://www.linkedin.com/in/deepakmandal/\" target=\"_blank\">\n",
      "       <i class=\"fa fa-linkedin\">\n",
      "       </i>\n",
      "      </a>\n",
      "     </li>\n",
      "    </ul>\n",
      "   </div>\n",
      "  </aside>\n",
      "  <main>\n",
      "   <article>\n",
      "    <div>\n",
      "     <p>\n",
      "      Hey there! I'm Deepak.\n",
      "      <br/>\n",
      "      It's great to see you here!\n",
      "     </p>\n",
      "    </div>\n",
      "    <header>\n",
      "     <h2>\n",
      "      About me\n",
      "     </h2>\n",
      "    </header>\n",
      "    <div>\n",
      "     <p class=\"first last\">\n",
      "      I'm a pre-final year student currently pursuing a Bachelor of Technology at Indian Institute of Technology Guwahati, India, with an expected year of Graduation 2021. I consider myself as practical people who are interested in analysing and solving real-world problems, rather than just aim to enhancing knowledge within the field.\n",
      "     </p>\n",
      "    </div>\n",
      "    <hr/>\n",
      "    <header>\n",
      "     <h2>\n",
      "      Education\n",
      "     </h2>\n",
      "    </header>\n",
      "    <div>\n",
      "     <p>\n",
      "      <b>\n",
      "       Indian Institute of Technology, Guwahati\n",
      "      </b>\n",
      "      <a style=\"text-decoration:none; float: right; color:#000\">\n",
      "       2017 - Present\n",
      "      </a>\n",
      "      <br/>\n",
      "      B.Tech, CST\n",
      "     </p>\n",
      "    </div>\n",
      "    <hr/>\n",
      "    <header>\n",
      "     <h2>\n",
      "      Projects\n",
      "     </h2>\n",
      "    </header>\n",
      "    <div>\n",
      "     <ul>\n",
      "      <li>\n",
      "       <b>\n",
      "        House Price Prediction\n",
      "       </b>\n",
      "       <p style=\"float: right;\">\n",
      "        April 2021\n",
      "       </p>\n",
      "       <br/>\n",
      "       <i>\n",
      "        <a href=\"https://github.com/deepak-mandal/SalePricePrediction\" target=\"_blank\">\n",
      "         Self-paced project\n",
      "        </a>\n",
      "       </i>\n",
      "       <p>\n",
      "        <ul>\n",
      "         <li>\n",
      "          Built a Linear Regression Model to Predict the Sale Price of the House based on its characteristics.\n",
      "         </li>\n",
      "         <li>\n",
      "          Generated the Prediction for test dataset with 84.62 % accuracy of the Model.\n",
      "         </li>\n",
      "         <li>\n",
      "          Technologies used: Python, Machine learning technique - Linear Regression\n",
      "         </li>\n",
      "        </ul>\n",
      "       </p>\n",
      "      </li>\n",
      "      <li>\n",
      "       <b>\n",
      "        Fantasy Cricket Game\n",
      "       </b>\n",
      "       <p style=\"float: right;\">\n",
      "        July 2020\n",
      "       </p>\n",
      "       <br/>\n",
      "       <i>\n",
      "        Internshala Trainings (\n",
      "        <a href=\"https://github.com/deepak-mandal/fcg\" target=\"_blank\">\n",
      "         course project\n",
      "        </a>\n",
      "        )\n",
      "       </i>\n",
      "       <p>\n",
      "        <ul>\n",
      "         <li>\n",
      "          Technologies used: Python, SQLite, PyQt framework\n",
      "         </li>\n",
      "         <li>\n",
      "          Build a Python-based desktop application which is a Fantasy Cricket Game, where we would create a virtual team of\n",
      "\t\t\t real cricket players and score points depending on how the chosen players perform in real life matches.\n",
      "         </li>\n",
      "        </ul>\n",
      "       </p>\n",
      "      </li>\n",
      "      <li>\n",
      "       <b>\n",
      "        CRSI Conference Website\n",
      "       </b>\n",
      "       <p style=\"float: right;\">\n",
      "        April 2020 - June 2020\n",
      "       </p>\n",
      "       <br/>\n",
      "       <i>\n",
      "        IIT Guwahati\n",
      "       </i>\n",
      "       <br/>\n",
      "       <p>\n",
      "        <ul>\n",
      "         <li>\n",
      "          Developed PHP based full-stack conference web app for our Department with my team members.\n",
      "         </li>\n",
      "         <li>\n",
      "          Developed the admin portal for the response to edit/delete.\n",
      "         </li>\n",
      "         <li>\n",
      "          Technologies used: Backend - PHP, MySQL; Frontend - HTML, CSS &amp; Bootstrap\n",
      "         </li>\n",
      "        </ul>\n",
      "       </p>\n",
      "      </li>\n",
      "      <li>\n",
      "       <b>\n",
      "        Bio Adsorbent for Environmental Applications &amp; Bio Adsorbent Derived Nanomaterials and its Surface Modification for Heavy Metal Adsorption\n",
      "       </b>\n",
      "       <p style=\"float: right;\">\n",
      "        Sept. 2020 - Apr. 2021\n",
      "       </p>\n",
      "       <br/>\n",
      "       <i>\n",
      "        BTP, IITG\n",
      "       </i>\n",
      "       <p>\n",
      "        <ul>\n",
      "         <li>\n",
      "          Bio adsorbent for the adsorption of heavy metal ions and toxic dye molecules.\n",
      "         </li>\n",
      "         <li>\n",
      "          Synthesis procedure of Carbon nanotube (CNT) &amp; Carbon nanodots (CND) and, their surface modification for adsorption of heavy metals.\n",
      "         </li>\n",
      "        </ul>\n",
      "       </p>\n",
      "      </li>\n",
      "     </ul>\n",
      "    </div>\n",
      "    <hr/>\n",
      "    <header>\n",
      "     <h2>\n",
      "      Technical Skills\n",
      "     </h2>\n",
      "    </header>\n",
      "    <div>\n",
      "     <ul>\n",
      "      <li>\n",
      "       <b>\n",
      "        Programming languages :\n",
      "       </b>\n",
      "       Python, C, C++, Fortran\n",
      "      </li>\n",
      "      <li>\n",
      "       <b>\n",
      "        Web technologies :\n",
      "       </b>\n",
      "       HTML, CSS, Bootstrap, SQL, PHP\n",
      "      </li>\n",
      "      <li>\n",
      "       <b>\n",
      "        Database management :\n",
      "       </b>\n",
      "       SQLite, MySQL\n",
      "      </li>\n",
      "      <li>\n",
      "       <b>\n",
      "        Analytical tools :\n",
      "       </b>\n",
      "       pandas, Matplotlib, NumPy, scikit-learn\n",
      "      </li>\n",
      "      <li>\n",
      "       <b>\n",
      "        Miscellaneous :\n",
      "       </b>\n",
      "       MS Excel, Data structures, Algorithms, OOP, LibreOffice, GUI/PyQt, Grace plotting tool, GIMP\n",
      "      </li>\n",
      "      <li>\n",
      "       <b>\n",
      "        Operating system :\n",
      "       </b>\n",
      "       Linux, Windows\n",
      "      </li>\n",
      "     </ul>\n",
      "    </div>\n",
      "    <hr/>\n",
      "    <header>\n",
      "     <h2>\n",
      "      Certifications\n",
      "     </h2>\n",
      "    </header>\n",
      "    <div>\n",
      "     <ul>\n",
      "      <li>\n",
      "       <b>\n",
      "        Certified Python Marketing Analytics (\n",
      "        <a href=\"https://drive.google.com/file/d/1gEPhMKFntl1qX1xWGKyjScFEp4gmOByN/view?usp=sharing\" target=\"_blank\">\n",
      "         CPMA\n",
      "        </a>\n",
      "        ) :\n",
      "       </b>\n",
      "       Certification by Henry Harvin Education.\n",
      "      </li>\n",
      "     </ul>\n",
      "    </div>\n",
      "    <hr/>\n",
      "    <header>\n",
      "     <h2>\n",
      "      Key Courses Taken\n",
      "     </h2>\n",
      "    </header>\n",
      "    <div>\n",
      "     <ul>\n",
      "      <li>\n",
      "       Introduction to Computing - Programming in C, Computing Lab (using C)\n",
      "      </li>\n",
      "      <li>\n",
      "       <a href=\"https://drive.google.com/file/d/1mH_NdkbsSqRen6IRdB6op2M679mXW0XQ/view?usp=sharing\" target=\"_blank\">\n",
      "        Data Structures and Algorithms\n",
      "       </a>\n",
      "      </li>\n",
      "      <li>\n",
      "       Computational Chemistry-FORTRAN coding, Core Mathematics - Advanced Calculus, Linear Algebra\n",
      "      </li>\n",
      "      <li>\n",
      "       Chemical Technology lab on Organic Synthesis, Inorganic Materials, Analytical Chemistry and Instrumentation\n",
      "      </li>\n",
      "      <li>\n",
      "       Chemical Process Calculations, Industrial Chemistry, Polymer Chemistry, Petroleum and Petrochemicals, Natural Gas Engineering\n",
      "      </li>\n",
      "     </ul>\n",
      "    </div>\n",
      "    <hr/>\n",
      "    <header>\n",
      "     <h2>\n",
      "      Achievements\n",
      "     </h2>\n",
      "    </header>\n",
      "    <div>\n",
      "     <ul>\n",
      "      <li>\n",
      "       <b>\n",
      "        Joint Entrance Examination 2017 :\n",
      "       </b>\n",
      "       Qualified JEE(Adv) among 0.15+ million candidates appearing for the test.\n",
      "      </li>\n",
      "     </ul>\n",
      "    </div>\n",
      "    <hr/>\n",
      "    <header>\n",
      "     <h2>\n",
      "      Training &amp; Workshops\n",
      "     </h2>\n",
      "    </header>\n",
      "    <div>\n",
      "     <ul>\n",
      "      <li>\n",
      "       <a href=\"https://drive.google.com/file/d/1t8tNXF_OBaTuzIt-9aDfUtLJz5JcQmCi/view?usp=sharing\" target=\"_blank\">\n",
      "        Programming with Python\n",
      "       </a>\n",
      "      </li>\n",
      "      <li>\n",
      "       <a href=\"https://drive.google.com/file/d/1ubIY_m1tYISwxyxLs1mhA90fDjmP-fPp/view?usp=sharing\" target=\"_blank\">\n",
      "        Web Development\n",
      "       </a>\n",
      "      </li>\n",
      "      <li>\n",
      "       <a href=\"https://drive.google.com/file/d/1arGccgA93zUGyAr2Y8N7NQ4CH8sc_Jwu/view?usp=sharing\" target=\"_blank\">\n",
      "        Programming with C and C++\n",
      "       </a>\n",
      "      </li>\n",
      "      <li>\n",
      "       <a href=\"https://drive.google.com/file/d/1zJ26AC099Bv1wbsFc68NfxGz2LkNiJND/view?usp=sharing\" target=\"_blank\">\n",
      "        LaTeX Workshop\n",
      "       </a>\n",
      "      </li>\n",
      "     </ul>\n",
      "    </div>\n",
      "    <hr/>\n",
      "    <header>\n",
      "     <h2>\n",
      "      Extracurriculars\n",
      "     </h2>\n",
      "    </header>\n",
      "    <div>\n",
      "     <ul>\n",
      "      <li>\n",
      "       CCD, IITG - Participated as a volunteer during the placement season 2019-20.\n",
      "      </li>\n",
      "      <li>\n",
      "       Attended a LaTeX workshop, conducted by RSF Mathematics at IITG.\n",
      "      </li>\n",
      "     </ul>\n",
      "    </div>\n",
      "   </article>\n",
      "   <div class=\"move\">\n",
      "    <marquee behavior=\"scroll\" direction=\"left\" height=\"100%\" onmouseout=\"this.start();\" onmouseover=\"this.stop();\">\n",
      "     <p style=\"color: #00FF00;\">\n",
      "      <i>\n",
      "       Thanks!\n",
      "      </i>\n",
      "     </p>\n",
      "    </marquee>\n",
      "   </div>\n",
      "   <footer>\n",
      "    <p>\n",
      "     <i class=\"fa fa-map-marker\" style=\"font-size:16px\">\n",
      "      Guwahati, INDIA\n",
      "     </i>\n",
      "     <br/>\n",
      "     © 2020 Deepak. For queries contact\n",
      "     <a href=\"mailto:dkmiitg@gmail.com\">\n",
      "      <b>\n",
      "       dkm.iitg@gmail.com\n",
      "      </b>\n",
      "     </a>\n",
      "    </p>\n",
      "   </footer>\n",
      "  </main>\n",
      "  <script type=\"application/ld+json\">\n",
      "   {\n",
      "  \"@context\" : \"\",\n",
      "  \"@type\" : \"Blog\",\n",
      "  \"name\": \" Deepak \",\n",
      "  \"url\" : \".\",\n",
      "  \"image\": \"\",\n",
      "  \"description\": \"\"\n",
      "}\n",
      "  </script>\n",
      " </body>\n",
      "</html>\n",
      "\n"
     ]
    }
   ],
   "source": [
    "print(soup.prettify())"
   ]
  },
  {
   "cell_type": "code",
   "execution_count": 8,
   "id": "eb230447",
   "metadata": {},
   "outputs": [
    {
     "name": "stdout",
     "output_type": "stream",
     "text": [
      "<p>Hey there! I'm Deepak.<br/>\n",
      "\t\tIt's great to see you here!</p>\n",
      "<p class=\"first last\">I'm a pre-final year student currently pursuing a Bachelor of Technology at Indian Institute of Technology Guwahati, India, with an expected year of Graduation 2021. I consider myself as practical people who are interested in analysing and solving real-world problems, rather than just aim to enhancing knowledge within the field.</p>\n",
      "<p><b>Indian Institute of Technology, Guwahati</b> <a style=\"text-decoration:none; float: right; color:#000\">2017 - Present</a>\n",
      "<br/>B.Tech, CST</p>\n",
      "<p style=\"float: right;\">April 2021</p>\n",
      "<p><ul>\n",
      "<li>Built a Linear Regression Model to Predict the Sale Price of the House based on its characteristics.</li>\n",
      "<li>Generated the Prediction for test dataset with 84.62 % accuracy of the Model.</li>\n",
      "<li>Technologies used: Python, Machine learning technique - Linear Regression</li>\n",
      "</ul></p>\n",
      "<p style=\"float: right;\">July 2020</p>\n",
      "<p><ul>\n",
      "<li>Technologies used: Python, SQLite, PyQt framework</li>\n",
      "<li>Build a Python-based desktop application which is a Fantasy Cricket Game, where we would create a virtual team of\n",
      "\t\t\t real cricket players and score points depending on how the chosen players perform in real life matches.</li>\n",
      "</ul></p>\n",
      "<p style=\"float: right;\">April 2020 - June 2020</p>\n",
      "<p><ul>\n",
      "<li>Developed PHP based full-stack conference web app for our Department with my team members.</li>\n",
      "<li>Developed the admin portal for the response to edit/delete.</li>\n",
      "<li>Technologies used: Backend - PHP, MySQL; Frontend - HTML, CSS &amp; Bootstrap</li>\n",
      "</ul></p>\n",
      "<p style=\"float: right;\">Sept. 2020 - Apr. 2021</p>\n",
      "<p><ul>\n",
      "<li>Bio adsorbent for the adsorption of heavy metal ions and toxic dye molecules.</li>\n",
      "<li>Synthesis procedure of Carbon nanotube (CNT) &amp; Carbon nanodots (CND) and, their surface modification for adsorption of heavy metals.</li>\n",
      "</ul></p>\n",
      "<p style=\"color: #00FF00;\"><i>Thanks!</i></p>\n",
      "<p><i class=\"fa fa-map-marker\" style=\"font-size:16px\">  Guwahati, INDIA</i><br/>© 2020 Deepak. For queries contact <a href=\"mailto:dkmiitg@gmail.com\"><b>dkm.iitg@gmail.com</b></a> </p>\n"
     ]
    }
   ],
   "source": [
    "for para in soup.find_all('p'):\n",
    "    print(para)"
   ]
  },
  {
   "cell_type": "code",
   "execution_count": 13,
   "id": "46d5eaf5",
   "metadata": {},
   "outputs": [],
   "source": [
    "for para in soup.find_all():\n",
    "    #print(para.text)\n",
    "    Raw_text_data = para.text\n",
    "    break"
   ]
  },
  {
   "cell_type": "code",
   "execution_count": 16,
   "id": "2280d4ef",
   "metadata": {},
   "outputs": [
    {
     "name": "stdout",
     "output_type": "stream",
     "text": [
      "\n",
      "\n",
      "Deepak\n",
      " \n",
      "\n",
      "\n",
      "\n",
      "\n",
      "\n",
      "\n",
      "\n",
      "\n",
      "\n",
      "\n",
      "\n",
      "\n",
      "\n",
      "\n",
      "\n",
      "\n",
      "\n",
      "\n",
      "\n",
      "\n",
      "\n",
      "\n",
      "\n",
      "\n",
      "\n",
      "\n",
      "\n",
      "\n",
      "\n",
      "\n",
      "\n",
      "\n",
      "\n",
      "\n",
      "\n",
      "\n",
      "Hey there! I'm Deepak.\n",
      "\t\tIt's great to see you here!\n",
      "\n",
      "\n",
      "About me\n",
      "\n",
      "\n",
      "I'm a pre-final year student currently pursuing a Bachelor of Technology at Indian Institute of Technology Guwahati, India, with an expected year of Graduation 2021. I consider myself as practical people who are interested in analysing and solving real-world problems, rather than just aim to enhancing knowledge within the field.\n",
      "\n",
      "\n",
      "\n",
      "Education\n",
      "\n",
      "\n",
      "Indian Institute of Technology, Guwahati 2017 - Present\n",
      "B.Tech, CST\n",
      "\n",
      "\n",
      "\n",
      "Projects\n",
      "\n",
      "\n",
      "\n",
      "House Price Prediction April 2021\n",
      "Self-paced project\n",
      "\n",
      "Built a Linear Regression Model to Predict the Sale Price of the House based on its characteristics.\n",
      "Generated the Prediction for test dataset with 84.62 % accuracy of the Model.\n",
      "Technologies used: Python, Machine learning technique - Linear Regression\n",
      "\n",
      "Fantasy Cricket Game July 2020\n",
      "Internshala Trainings (course project)\n",
      "\n",
      "Technologies used: Python, SQLite, PyQt framework\n",
      "Build a Python-based desktop application which is a Fantasy Cricket Game, where we would create a virtual team of\n",
      "\t\t\t real cricket players and score points depending on how the chosen players perform in real life matches.\n",
      "\n",
      "CRSI Conference Website April 2020 - June 2020\n",
      "IIT Guwahati\n",
      "\n",
      "Developed PHP based full-stack conference web app for our Department with my team members.\n",
      "Developed the admin portal for the response to edit/delete.\n",
      "Technologies used: Backend - PHP, MySQL; Frontend - HTML, CSS & Bootstrap\n",
      "\n",
      "Bio Adsorbent for Environmental Applications & Bio Adsorbent Derived Nanomaterials and its Surface Modification for Heavy Metal Adsorption Sept. 2020 - Apr. 2021\n",
      "BTP, IITG\n",
      "\n",
      "Bio adsorbent for the adsorption of heavy metal ions and toxic dye molecules.\n",
      "Synthesis procedure of Carbon nanotube (CNT) & Carbon nanodots (CND) and, their surface modification for adsorption of heavy metals.\n",
      "\n",
      "\n",
      "\n",
      "\n",
      "\n",
      "Technical Skills\n",
      "\n",
      "\n",
      "\n",
      "Programming languages : Python, C, C++, Fortran\n",
      "Web technologies : HTML, CSS, Bootstrap, SQL, PHP\n",
      "Database management : SQLite, MySQL\n",
      "Analytical tools : pandas, Matplotlib, NumPy, scikit-learn\n",
      "Miscellaneous : MS Excel, Data structures, Algorithms, OOP, LibreOffice, GUI/PyQt, Grace plotting tool, GIMP\n",
      "Operating system : Linux, Windows\n",
      "\n",
      "\n",
      "\n",
      "\n",
      "Certifications\n",
      "\n",
      "\n",
      "\n",
      "Certified Python Marketing Analytics (CPMA) : Certification by Henry Harvin Education.\n",
      "\n",
      "\n",
      "\n",
      "\n",
      "Key Courses Taken\n",
      "\n",
      "\n",
      "\n",
      "Introduction to Computing - Programming in C, Computing Lab (using C)\n",
      "Data Structures and Algorithms\n",
      "Computational Chemistry-FORTRAN coding, Core Mathematics - Advanced Calculus, Linear Algebra\n",
      "Chemical Technology lab on Organic Synthesis, Inorganic Materials, Analytical Chemistry and Instrumentation\n",
      "Chemical Process Calculations, Industrial Chemistry, Polymer Chemistry, Petroleum and Petrochemicals, Natural Gas Engineering\n",
      "\n",
      "\n",
      "\n",
      "\n",
      "Achievements\n",
      "\n",
      "\n",
      "\n",
      "Joint Entrance Examination 2017 : Qualified JEE(Adv) among 0.15+ million candidates appearing for the test.\n",
      "\n",
      "\n",
      "\n",
      "\n",
      "Training & Workshops\n",
      "\n",
      "\n",
      "\n",
      "Programming with Python\n",
      "Web Development\n",
      "Programming with C and C++\n",
      "LaTeX Workshop\n",
      "\n",
      "\n",
      "\n",
      "\n",
      "Extracurriculars\n",
      "\n",
      "\n",
      "\n",
      "CCD, IITG - Participated as a volunteer during the placement season 2019-20.\n",
      "Attended a LaTeX workshop, conducted by RSF Mathematics at IITG.\n",
      "\n",
      "\n",
      "\n",
      "\n",
      "\n",
      "Thanks!\n",
      "\n",
      "\n",
      "\n",
      "  Guwahati, INDIA© 2020 Deepak. For queries contact dkm.iitg@gmail.com \n",
      "\n",
      "\n",
      "\n",
      "\n",
      "\n"
     ]
    }
   ],
   "source": [
    "print(Raw_text_data)"
   ]
  },
  {
   "cell_type": "code",
   "execution_count": 18,
   "id": "4a15f9f7",
   "metadata": {},
   "outputs": [
    {
     "name": "stdout",
     "output_type": "stream",
     "text": [
      "<class 'str'>\n"
     ]
    }
   ],
   "source": [
    "print(type(Raw_text_data))"
   ]
  },
  {
   "cell_type": "code",
   "execution_count": 21,
   "id": "57686e02",
   "metadata": {},
   "outputs": [],
   "source": [
    "with open(\"RawTextData.txt\", \"w\", encoding = \"utf-8\") as f:\n",
    "    f.write(Raw_text_data)"
   ]
  },
  {
   "cell_type": "markdown",
   "id": "d4c896f2",
   "metadata": {},
   "source": [
    "# ######\n"
   ]
  },
  {
   "cell_type": "code",
   "execution_count": 26,
   "id": "782694c2",
   "metadata": {},
   "outputs": [],
   "source": [
    "#Text cleaning - removing stop words and puncuations"
   ]
  },
  {
   "cell_type": "code",
   "execution_count": 7,
   "id": "8ed0a2bb",
   "metadata": {},
   "outputs": [],
   "source": [
    "# Sentence Tokenization"
   ]
  },
  {
   "cell_type": "code",
   "execution_count": 8,
   "id": "b6c679bb",
   "metadata": {},
   "outputs": [],
   "source": [
    "#Word Tokenization"
   ]
  },
  {
   "cell_type": "code",
   "execution_count": 9,
   "id": "f39b0faa",
   "metadata": {},
   "outputs": [],
   "source": [
    "#Word-frequency table"
   ]
  },
  {
   "cell_type": "code",
   "execution_count": 10,
   "id": "7cbc0ad5",
   "metadata": {},
   "outputs": [],
   "source": [
    "#Summarization"
   ]
  },
  {
   "cell_type": "code",
   "execution_count": 69,
   "id": "7023093d",
   "metadata": {},
   "outputs": [],
   "source": [
    "#Input Text\n",
    "\n",
    "text=\"\"\"\n",
    "Python is an interpreted high-level general-purpose programming language. Python's design philosophy emphasizes code readability with its notable use of significant indentation. Its language constructs as well as its object-oriented approach aim to help programmers write clear, logical code for small and large-scale projects.[30]\n",
    "\n",
    "Python is dynamically-typed and garbage-collected. It supports multiple programming paradigms, including structured (particularly, procedural), object-oriented and functional programming. Python is often described as a \"batteries included\" language due to its comprehensive standard library.[31]\n",
    "\n",
    "Guido van Rossum began working on Python in the late 1980s, as a successor to the ABC programming language, and first released it in 1991 as Python 0.9.0.[32] Python 2.0 was released in 2000 and introduced new features, such as list comprehensions and a garbage collection system using reference counting. Python 3.0 was released in 2008 and was a major revision of the language that is not completely backward-compatible and much Python 2 code does not run unmodified on Python 3. Python 2 was discontinued with version 2.7.18 in 2020.[33]\n",
    "\"\"\""
   ]
  },
  {
   "cell_type": "code",
   "execution_count": 70,
   "id": "97a8b780",
   "metadata": {},
   "outputs": [],
   "source": [
    "# Using SpaCy Library"
   ]
  },
  {
   "cell_type": "code",
   "execution_count": 71,
   "id": "90d47b85",
   "metadata": {},
   "outputs": [
    {
     "name": "stdout",
     "output_type": "stream",
     "text": [
      "<class 'str'>\n"
     ]
    }
   ],
   "source": [
    "print(type(text))"
   ]
  },
  {
   "cell_type": "code",
   "execution_count": 16,
   "id": "087ff286",
   "metadata": {},
   "outputs": [
    {
     "name": "stdout",
     "output_type": "stream",
     "text": [
      "Collecting spacy\n",
      "  Downloading spacy-3.0.6-cp38-cp38-win_amd64.whl (11.9 MB)\n",
      "Collecting srsly<3.0.0,>=2.4.1\n",
      "  Downloading srsly-2.4.1-cp38-cp38-win_amd64.whl (451 kB)\n",
      "Collecting pathy>=0.3.5\n",
      "  Downloading pathy-0.5.2-py3-none-any.whl (42 kB)\n",
      "Collecting catalogue<2.1.0,>=2.0.3\n",
      "  Downloading catalogue-2.0.4-py3-none-any.whl (16 kB)\n",
      "Collecting typer<0.4.0,>=0.3.0\n",
      "  Downloading typer-0.3.2-py3-none-any.whl (21 kB)\n",
      "Collecting preshed<3.1.0,>=3.0.2\n",
      "  Downloading preshed-3.0.5-cp38-cp38-win_amd64.whl (112 kB)\n",
      "Collecting blis<0.8.0,>=0.4.0\n",
      "  Downloading blis-0.7.4-cp38-cp38-win_amd64.whl (6.5 MB)\n",
      "Collecting wasabi<1.1.0,>=0.8.1\n",
      "  Downloading wasabi-0.8.2-py3-none-any.whl (23 kB)\n",
      "Requirement already satisfied: requests<3.0.0,>=2.13.0 in c:\\users\\dkmii\\anaconda3\\lib\\site-packages (from spacy) (2.25.1)\n",
      "Requirement already satisfied: numpy>=1.15.0 in c:\\users\\dkmii\\anaconda3\\lib\\site-packages (from spacy) (1.20.1)\n",
      "Requirement already satisfied: setuptools in c:\\users\\dkmii\\anaconda3\\lib\\site-packages (from spacy) (52.0.0.post20210125)\n",
      "Requirement already satisfied: tqdm<5.0.0,>=4.38.0 in c:\\users\\dkmii\\anaconda3\\lib\\site-packages (from spacy) (4.59.0)\n",
      "Requirement already satisfied: jinja2 in c:\\users\\dkmii\\anaconda3\\lib\\site-packages (from spacy) (2.11.3)\n",
      "Requirement already satisfied: packaging>=20.0 in c:\\users\\dkmii\\anaconda3\\lib\\site-packages (from spacy) (20.9)\n",
      "Collecting murmurhash<1.1.0,>=0.28.0\n",
      "  Downloading murmurhash-1.0.5-cp38-cp38-win_amd64.whl (21 kB)\n",
      "Collecting pydantic<1.8.0,>=1.7.1\n",
      "  Downloading pydantic-1.7.4-cp38-cp38-win_amd64.whl (1.8 MB)\n",
      "Collecting thinc<8.1.0,>=8.0.3\n",
      "  Downloading thinc-8.0.3-cp38-cp38-win_amd64.whl (1.0 MB)\n",
      "Collecting spacy-legacy<3.1.0,>=3.0.4\n",
      "  Downloading spacy_legacy-3.0.5-py2.py3-none-any.whl (12 kB)\n",
      "Collecting cymem<2.1.0,>=2.0.2\n",
      "  Downloading cymem-2.0.5-cp38-cp38-win_amd64.whl (36 kB)\n",
      "Requirement already satisfied: pyparsing>=2.0.2 in c:\\users\\dkmii\\anaconda3\\lib\\site-packages (from packaging>=20.0->spacy) (2.4.7)\n",
      "Collecting smart-open<4.0.0,>=2.2.0\n",
      "  Downloading smart_open-3.0.0.tar.gz (113 kB)\n",
      "Requirement already satisfied: chardet<5,>=3.0.2 in c:\\users\\dkmii\\anaconda3\\lib\\site-packages (from requests<3.0.0,>=2.13.0->spacy) (4.0.0)\n",
      "Requirement already satisfied: idna<3,>=2.5 in c:\\users\\dkmii\\anaconda3\\lib\\site-packages (from requests<3.0.0,>=2.13.0->spacy) (2.10)\n",
      "Requirement already satisfied: certifi>=2017.4.17 in c:\\users\\dkmii\\anaconda3\\lib\\site-packages (from requests<3.0.0,>=2.13.0->spacy) (2020.12.5)\n",
      "Requirement already satisfied: urllib3<1.27,>=1.21.1 in c:\\users\\dkmii\\anaconda3\\lib\\site-packages (from requests<3.0.0,>=2.13.0->spacy) (1.26.4)\n",
      "Requirement already satisfied: click<7.2.0,>=7.1.1 in c:\\users\\dkmii\\anaconda3\\lib\\site-packages (from typer<0.4.0,>=0.3.0->spacy) (7.1.2)\n",
      "Requirement already satisfied: MarkupSafe>=0.23 in c:\\users\\dkmii\\anaconda3\\lib\\site-packages (from jinja2->spacy) (1.1.1)\n",
      "Building wheels for collected packages: smart-open\n",
      "  Building wheel for smart-open (setup.py): started\n",
      "  Building wheel for smart-open (setup.py): finished with status 'done'\n",
      "  Created wheel for smart-open: filename=smart_open-3.0.0-py3-none-any.whl size=107097 sha256=49c4072397b5364c25cf7cd96cc2ba156e4cd7e74754bcfb2083109bfd469914\n",
      "  Stored in directory: c:\\users\\dkmii\\appdata\\local\\pip\\cache\\wheels\\11\\73\\9a\\f91ac1f1816436b16423617c5be5db048697ff152a9c4346f2\n",
      "Successfully built smart-open\n",
      "Installing collected packages: murmurhash, cymem, catalogue, wasabi, typer, srsly, smart-open, pydantic, preshed, blis, thinc, spacy-legacy, pathy, spacy\n",
      "Successfully installed blis-0.7.4 catalogue-2.0.4 cymem-2.0.5 murmurhash-1.0.5 pathy-0.5.2 preshed-3.0.5 pydantic-1.7.4 smart-open-3.0.0 spacy-3.0.6 spacy-legacy-3.0.5 srsly-2.4.1 thinc-8.0.3 typer-0.3.2 wasabi-0.8.2\n"
     ]
    }
   ],
   "source": [
    "!pip install -U spacy"
   ]
  },
  {
   "cell_type": "code",
   "execution_count": 17,
   "id": "5a1d0a57",
   "metadata": {},
   "outputs": [
    {
     "name": "stdout",
     "output_type": "stream",
     "text": [
      "Collecting en-core-web-lg==3.0.0\n",
      "  Downloading https://github.com/explosion/spacy-models/releases/download/en_core_web_lg-3.0.0/en_core_web_lg-3.0.0-py3-none-any.whl (778.8 MB)\n",
      "Requirement already satisfied: spacy<3.1.0,>=3.0.0 in c:\\users\\dkmii\\anaconda3\\lib\\site-packages (from en-core-web-lg==3.0.0) (3.0.6)\n",
      "Requirement already satisfied: cymem<2.1.0,>=2.0.2 in c:\\users\\dkmii\\anaconda3\\lib\\site-packages (from spacy<3.1.0,>=3.0.0->en-core-web-lg==3.0.0) (2.0.5)\n",
      "Requirement already satisfied: catalogue<2.1.0,>=2.0.3 in c:\\users\\dkmii\\anaconda3\\lib\\site-packages (from spacy<3.1.0,>=3.0.0->en-core-web-lg==3.0.0) (2.0.4)\n",
      "Requirement already satisfied: murmurhash<1.1.0,>=0.28.0 in c:\\users\\dkmii\\anaconda3\\lib\\site-packages (from spacy<3.1.0,>=3.0.0->en-core-web-lg==3.0.0) (1.0.5)\n",
      "Requirement already satisfied: tqdm<5.0.0,>=4.38.0 in c:\\users\\dkmii\\anaconda3\\lib\\site-packages (from spacy<3.1.0,>=3.0.0->en-core-web-lg==3.0.0) (4.59.0)\n",
      "Requirement already satisfied: numpy>=1.15.0 in c:\\users\\dkmii\\anaconda3\\lib\\site-packages (from spacy<3.1.0,>=3.0.0->en-core-web-lg==3.0.0) (1.20.1)\n",
      "Requirement already satisfied: pathy>=0.3.5 in c:\\users\\dkmii\\anaconda3\\lib\\site-packages (from spacy<3.1.0,>=3.0.0->en-core-web-lg==3.0.0) (0.5.2)\n",
      "Requirement already satisfied: blis<0.8.0,>=0.4.0 in c:\\users\\dkmii\\anaconda3\\lib\\site-packages (from spacy<3.1.0,>=3.0.0->en-core-web-lg==3.0.0) (0.7.4)\n",
      "Requirement already satisfied: wasabi<1.1.0,>=0.8.1 in c:\\users\\dkmii\\anaconda3\\lib\\site-packages (from spacy<3.1.0,>=3.0.0->en-core-web-lg==3.0.0) (0.8.2)\n",
      "Requirement already satisfied: jinja2 in c:\\users\\dkmii\\anaconda3\\lib\\site-packages (from spacy<3.1.0,>=3.0.0->en-core-web-lg==3.0.0) (2.11.3)\n",
      "Requirement already satisfied: spacy-legacy<3.1.0,>=3.0.4 in c:\\users\\dkmii\\anaconda3\\lib\\site-packages (from spacy<3.1.0,>=3.0.0->en-core-web-lg==3.0.0) (3.0.5)\n",
      "Requirement already satisfied: typer<0.4.0,>=0.3.0 in c:\\users\\dkmii\\anaconda3\\lib\\site-packages (from spacy<3.1.0,>=3.0.0->en-core-web-lg==3.0.0) (0.3.2)\n",
      "Requirement already satisfied: preshed<3.1.0,>=3.0.2 in c:\\users\\dkmii\\anaconda3\\lib\\site-packages (from spacy<3.1.0,>=3.0.0->en-core-web-lg==3.0.0) (3.0.5)\n",
      "Requirement already satisfied: requests<3.0.0,>=2.13.0 in c:\\users\\dkmii\\anaconda3\\lib\\site-packages (from spacy<3.1.0,>=3.0.0->en-core-web-lg==3.0.0) (2.25.1)\n",
      "Requirement already satisfied: setuptools in c:\\users\\dkmii\\anaconda3\\lib\\site-packages (from spacy<3.1.0,>=3.0.0->en-core-web-lg==3.0.0) (52.0.0.post20210125)\n",
      "Requirement already satisfied: srsly<3.0.0,>=2.4.1 in c:\\users\\dkmii\\anaconda3\\lib\\site-packages (from spacy<3.1.0,>=3.0.0->en-core-web-lg==3.0.0) (2.4.1)\n",
      "Requirement already satisfied: thinc<8.1.0,>=8.0.3 in c:\\users\\dkmii\\anaconda3\\lib\\site-packages (from spacy<3.1.0,>=3.0.0->en-core-web-lg==3.0.0) (8.0.3)\n",
      "Requirement already satisfied: pydantic<1.8.0,>=1.7.1 in c:\\users\\dkmii\\anaconda3\\lib\\site-packages (from spacy<3.1.0,>=3.0.0->en-core-web-lg==3.0.0) (1.7.4)\n",
      "Requirement already satisfied: packaging>=20.0 in c:\\users\\dkmii\\anaconda3\\lib\\site-packages (from spacy<3.1.0,>=3.0.0->en-core-web-lg==3.0.0) (20.9)\n",
      "Requirement already satisfied: pyparsing>=2.0.2 in c:\\users\\dkmii\\anaconda3\\lib\\site-packages (from packaging>=20.0->spacy<3.1.0,>=3.0.0->en-core-web-lg==3.0.0) (2.4.7)\n",
      "Requirement already satisfied: smart-open<4.0.0,>=2.2.0 in c:\\users\\dkmii\\anaconda3\\lib\\site-packages (from pathy>=0.3.5->spacy<3.1.0,>=3.0.0->en-core-web-lg==3.0.0) (3.0.0)\n",
      "Requirement already satisfied: chardet<5,>=3.0.2 in c:\\users\\dkmii\\anaconda3\\lib\\site-packages (from requests<3.0.0,>=2.13.0->spacy<3.1.0,>=3.0.0->en-core-web-lg==3.0.0) (4.0.0)\n",
      "Requirement already satisfied: idna<3,>=2.5 in c:\\users\\dkmii\\anaconda3\\lib\\site-packages (from requests<3.0.0,>=2.13.0->spacy<3.1.0,>=3.0.0->en-core-web-lg==3.0.0) (2.10)\n",
      "Requirement already satisfied: urllib3<1.27,>=1.21.1 in c:\\users\\dkmii\\anaconda3\\lib\\site-packages (from requests<3.0.0,>=2.13.0->spacy<3.1.0,>=3.0.0->en-core-web-lg==3.0.0) (1.26.4)\n",
      "Requirement already satisfied: certifi>=2017.4.17 in c:\\users\\dkmii\\anaconda3\\lib\\site-packages (from requests<3.0.0,>=2.13.0->spacy<3.1.0,>=3.0.0->en-core-web-lg==3.0.0) (2020.12.5)\n",
      "Requirement already satisfied: click<7.2.0,>=7.1.1 in c:\\users\\dkmii\\anaconda3\\lib\\site-packages (from typer<0.4.0,>=0.3.0->spacy<3.1.0,>=3.0.0->en-core-web-lg==3.0.0) (7.1.2)\n",
      "Requirement already satisfied: MarkupSafe>=0.23 in c:\\users\\dkmii\\anaconda3\\lib\\site-packages (from jinja2->spacy<3.1.0,>=3.0.0->en-core-web-lg==3.0.0) (1.1.1)\n",
      "Installing collected packages: en-core-web-lg\n",
      "Successfully installed en-core-web-lg-3.0.0\n",
      "[+] Download and installation successful\n",
      "You can now load the package via spacy.load('en_core_web_lg')\n"
     ]
    }
   ],
   "source": [
    "!python -m spacy download en_core_web_lg"
   ]
  },
  {
   "cell_type": "code",
   "execution_count": 18,
   "id": "3af5c582",
   "metadata": {},
   "outputs": [],
   "source": [
    "import spacy\n",
    "from spacy.lang.en.stop_words import STOP_WORDS\n",
    "from string import punctuation"
   ]
  },
  {
   "cell_type": "code",
   "execution_count": 19,
   "id": "9fb7b3db",
   "metadata": {},
   "outputs": [],
   "source": [
    "stopwords = list(STOP_WORDS)"
   ]
  },
  {
   "cell_type": "code",
   "execution_count": 20,
   "id": "ed87afbd",
   "metadata": {},
   "outputs": [],
   "source": [
    "nlp = spacy.load('en_core_web_lg')"
   ]
  },
  {
   "cell_type": "code",
   "execution_count": 21,
   "id": "a2d99d55",
   "metadata": {},
   "outputs": [],
   "source": [
    "doc = nlp(text)"
   ]
  },
  {
   "cell_type": "code",
   "execution_count": 22,
   "id": "faee6dba",
   "metadata": {},
   "outputs": [
    {
     "name": "stdout",
     "output_type": "stream",
     "text": [
      "['\\n', 'Python', 'is', 'an', 'interpreted', 'high', '-', 'level', 'general', '-', 'purpose', 'programming', 'language', '.', 'Python', \"'s\", 'design', 'philosophy', 'emphasizes', 'code', 'readability', 'with', 'its', 'notable', 'use', 'of', 'significant', 'indentation', '.', 'Its', 'language', 'constructs', 'as', 'well', 'as', 'its', 'object', '-', 'oriented', 'approach', 'aim', 'to', 'help', 'programmers', 'write', 'clear', ',', 'logical', 'code', 'for', 'small', 'and', 'large', '-', 'scale', 'projects.[30', ']', '\\n\\n', 'Python', 'is', 'dynamically', '-', 'typed', 'and', 'garbage', '-', 'collected', '.', 'It', 'supports', 'multiple', 'programming', 'paradigms', ',', 'including', 'structured', '(', 'particularly', ',', 'procedural', ')', ',', 'object', '-', 'oriented', 'and', 'functional', 'programming', '.', 'Python', 'is', 'often', 'described', 'as', 'a', '\"', 'batteries', 'included', '\"', 'language', 'due', 'to', 'its', 'comprehensive', 'standard', 'library.[31', ']', '\\n\\n', 'Guido', 'van', 'Rossum', 'began', 'working', 'on', 'Python', 'in', 'the', 'late', '1980s', ',', 'as', 'a', 'successor', 'to', 'the', 'ABC', 'programming', 'language', ',', 'and', 'first', 'released', 'it', 'in', '1991', 'as', 'Python', '0.9.0.[32', ']', 'Python', '2.0', 'was', 'released', 'in', '2000', 'and', 'introduced', 'new', 'features', ',', 'such', 'as', 'list', 'comprehensions', 'and', 'a', 'garbage', 'collection', 'system', 'using', 'reference', 'counting', '.', 'Python', '3.0', 'was', 'released', 'in', '2008', 'and', 'was', 'a', 'major', 'revision', 'of', 'the', 'language', 'that', 'is', 'not', 'completely', 'backward', '-', 'compatible', 'and', 'much', 'Python', '2', 'code', 'does', 'not', 'run', 'unmodified', 'on', 'Python', '3', '.', 'Python', '2', 'was', 'discontinued', 'with', 'version', '2.7.18', 'in', '2020.[33', ']', '\\n']\n"
     ]
    }
   ],
   "source": [
    "tokens = [token.text for token in doc]\n",
    "print(tokens)"
   ]
  },
  {
   "cell_type": "code",
   "execution_count": 23,
   "id": "4da0a28b",
   "metadata": {},
   "outputs": [],
   "source": [
    "#Our task is to remove these tokens and stop words"
   ]
  },
  {
   "cell_type": "code",
   "execution_count": 24,
   "id": "37157888",
   "metadata": {},
   "outputs": [
    {
     "data": {
      "text/plain": [
       "'!\"#$%&\\'()*+,-./:;<=>?@[\\\\]^_`{|}~'"
      ]
     },
     "execution_count": 24,
     "metadata": {},
     "output_type": "execute_result"
    }
   ],
   "source": [
    "punctuation"
   ]
  },
  {
   "cell_type": "code",
   "execution_count": 25,
   "id": "74c78a7c",
   "metadata": {},
   "outputs": [
    {
     "data": {
      "text/plain": [
       "'!\"#$%&\\'()*+,-./:;<=>?@[\\\\]^_`{|}~\\n'"
      ]
     },
     "execution_count": 25,
     "metadata": {},
     "output_type": "execute_result"
    }
   ],
   "source": [
    "punctuation = punctuation + '\\n'\n",
    "punctuation"
   ]
  },
  {
   "cell_type": "code",
   "execution_count": 29,
   "id": "97ec0b72",
   "metadata": {},
   "outputs": [],
   "source": [
    "#building word frequency :- each oe these words how many times has occured in this text\n",
    "#further we will identify the most occurence sentence."
   ]
  },
  {
   "cell_type": "code",
   "execution_count": 30,
   "id": "ffebfecc",
   "metadata": {},
   "outputs": [],
   "source": [
    "word_frequencies = {}\n",
    "for word in doc:\n",
    "    if word.text.lower() not in stopwords:\n",
    "        if word.text.lower() not in punctuation:\n",
    "            if word.text not in word_frequencies.keys():\n",
    "                word_frequencies[word.text] = 1    # If the words occurs for the first time the it will count as 1\n",
    "            else:\n",
    "                word_frequencies[word.text] +=1    #if after the first time it will occurs 2nd or 3rd times then it will just increment the values\n",
    "                \n",
    "                "
   ]
  },
  {
   "cell_type": "code",
   "execution_count": 31,
   "id": "18adeca4",
   "metadata": {},
   "outputs": [
    {
     "data": {
      "text/plain": [
       "{'Python': 11,\n",
       " 'interpreted': 1,\n",
       " 'high': 1,\n",
       " 'level': 1,\n",
       " 'general': 1,\n",
       " 'purpose': 1,\n",
       " 'programming': 4,\n",
       " 'language': 5,\n",
       " 'design': 1,\n",
       " 'philosophy': 1,\n",
       " 'emphasizes': 1,\n",
       " 'code': 3,\n",
       " 'readability': 1,\n",
       " 'notable': 1,\n",
       " 'use': 1,\n",
       " 'significant': 1,\n",
       " 'indentation': 1,\n",
       " 'constructs': 1,\n",
       " 'object': 2,\n",
       " 'oriented': 2,\n",
       " 'approach': 1,\n",
       " 'aim': 1,\n",
       " 'help': 1,\n",
       " 'programmers': 1,\n",
       " 'write': 1,\n",
       " 'clear': 1,\n",
       " 'logical': 1,\n",
       " 'small': 1,\n",
       " 'large': 1,\n",
       " 'scale': 1,\n",
       " 'projects.[30': 1,\n",
       " '\\n\\n': 2,\n",
       " 'dynamically': 1,\n",
       " 'typed': 1,\n",
       " 'garbage': 2,\n",
       " 'collected': 1,\n",
       " 'supports': 1,\n",
       " 'multiple': 1,\n",
       " 'paradigms': 1,\n",
       " 'including': 1,\n",
       " 'structured': 1,\n",
       " 'particularly': 1,\n",
       " 'procedural': 1,\n",
       " 'functional': 1,\n",
       " 'described': 1,\n",
       " 'batteries': 1,\n",
       " 'included': 1,\n",
       " 'comprehensive': 1,\n",
       " 'standard': 1,\n",
       " 'library.[31': 1,\n",
       " 'Guido': 1,\n",
       " 'van': 1,\n",
       " 'Rossum': 1,\n",
       " 'began': 1,\n",
       " 'working': 1,\n",
       " 'late': 1,\n",
       " '1980s': 1,\n",
       " 'successor': 1,\n",
       " 'ABC': 1,\n",
       " 'released': 3,\n",
       " '1991': 1,\n",
       " '0.9.0.[32': 1,\n",
       " '2.0': 1,\n",
       " '2000': 1,\n",
       " 'introduced': 1,\n",
       " 'new': 1,\n",
       " 'features': 1,\n",
       " 'list': 1,\n",
       " 'comprehensions': 1,\n",
       " 'collection': 1,\n",
       " 'system': 1,\n",
       " 'reference': 1,\n",
       " 'counting': 1,\n",
       " '3.0': 1,\n",
       " '2008': 1,\n",
       " 'major': 1,\n",
       " 'revision': 1,\n",
       " 'completely': 1,\n",
       " 'backward': 1,\n",
       " 'compatible': 1,\n",
       " '2': 2,\n",
       " 'run': 1,\n",
       " 'unmodified': 1,\n",
       " '3': 1,\n",
       " 'discontinued': 1,\n",
       " 'version': 1,\n",
       " '2.7.18': 1,\n",
       " '2020.[33': 1}"
      ]
     },
     "execution_count": 31,
     "metadata": {},
     "output_type": "execute_result"
    }
   ],
   "source": [
    "word_frequencies"
   ]
  },
  {
   "cell_type": "code",
   "execution_count": 32,
   "id": "243c4a88",
   "metadata": {},
   "outputs": [
    {
     "name": "stdout",
     "output_type": "stream",
     "text": [
      "{'Python': 11, 'interpreted': 1, 'high': 1, 'level': 1, 'general': 1, 'purpose': 1, 'programming': 4, 'language': 5, 'design': 1, 'philosophy': 1, 'emphasizes': 1, 'code': 3, 'readability': 1, 'notable': 1, 'use': 1, 'significant': 1, 'indentation': 1, 'constructs': 1, 'object': 2, 'oriented': 2, 'approach': 1, 'aim': 1, 'help': 1, 'programmers': 1, 'write': 1, 'clear': 1, 'logical': 1, 'small': 1, 'large': 1, 'scale': 1, 'projects.[30': 1, '\\n\\n': 2, 'dynamically': 1, 'typed': 1, 'garbage': 2, 'collected': 1, 'supports': 1, 'multiple': 1, 'paradigms': 1, 'including': 1, 'structured': 1, 'particularly': 1, 'procedural': 1, 'functional': 1, 'described': 1, 'batteries': 1, 'included': 1, 'comprehensive': 1, 'standard': 1, 'library.[31': 1, 'Guido': 1, 'van': 1, 'Rossum': 1, 'began': 1, 'working': 1, 'late': 1, '1980s': 1, 'successor': 1, 'ABC': 1, 'released': 3, '1991': 1, '0.9.0.[32': 1, '2.0': 1, '2000': 1, 'introduced': 1, 'new': 1, 'features': 1, 'list': 1, 'comprehensions': 1, 'collection': 1, 'system': 1, 'reference': 1, 'counting': 1, '3.0': 1, '2008': 1, 'major': 1, 'revision': 1, 'completely': 1, 'backward': 1, 'compatible': 1, '2': 2, 'run': 1, 'unmodified': 1, '3': 1, 'discontinued': 1, 'version': 1, '2.7.18': 1, '2020.[33': 1}\n"
     ]
    }
   ],
   "source": [
    "print(word_frequencies)"
   ]
  },
  {
   "cell_type": "code",
   "execution_count": 33,
   "id": "46202ed6",
   "metadata": {},
   "outputs": [],
   "source": [
    "max_frequency = max(word_frequencies.values())"
   ]
  },
  {
   "cell_type": "code",
   "execution_count": 34,
   "id": "244a7d04",
   "metadata": {},
   "outputs": [
    {
     "data": {
      "text/plain": [
       "11"
      ]
     },
     "execution_count": 34,
     "metadata": {},
     "output_type": "execute_result"
    }
   ],
   "source": [
    "max_frequency"
   ]
  },
  {
   "cell_type": "code",
   "execution_count": 37,
   "id": "94336f5b",
   "metadata": {},
   "outputs": [],
   "source": [
    "#first dividing the all of these values by 11 or max_frequency to get the normalised frequency\n",
    "#varies from 0 to 1"
   ]
  },
  {
   "cell_type": "code",
   "execution_count": 38,
   "id": "d7869a03",
   "metadata": {},
   "outputs": [],
   "source": [
    "for word in word_frequencies.keys():\n",
    "    word_frequencies[word] = word_frequencies[word]/max_frequency"
   ]
  },
  {
   "cell_type": "code",
   "execution_count": 40,
   "id": "d938981b",
   "metadata": {},
   "outputs": [
    {
     "name": "stdout",
     "output_type": "stream",
     "text": [
      "{'Python': 1.0, 'interpreted': 0.09090909090909091, 'high': 0.09090909090909091, 'level': 0.09090909090909091, 'general': 0.09090909090909091, 'purpose': 0.09090909090909091, 'programming': 0.36363636363636365, 'language': 0.45454545454545453, 'design': 0.09090909090909091, 'philosophy': 0.09090909090909091, 'emphasizes': 0.09090909090909091, 'code': 0.2727272727272727, 'readability': 0.09090909090909091, 'notable': 0.09090909090909091, 'use': 0.09090909090909091, 'significant': 0.09090909090909091, 'indentation': 0.09090909090909091, 'constructs': 0.09090909090909091, 'object': 0.18181818181818182, 'oriented': 0.18181818181818182, 'approach': 0.09090909090909091, 'aim': 0.09090909090909091, 'help': 0.09090909090909091, 'programmers': 0.09090909090909091, 'write': 0.09090909090909091, 'clear': 0.09090909090909091, 'logical': 0.09090909090909091, 'small': 0.09090909090909091, 'large': 0.09090909090909091, 'scale': 0.09090909090909091, 'projects.[30': 0.09090909090909091, '\\n\\n': 0.18181818181818182, 'dynamically': 0.09090909090909091, 'typed': 0.09090909090909091, 'garbage': 0.18181818181818182, 'collected': 0.09090909090909091, 'supports': 0.09090909090909091, 'multiple': 0.09090909090909091, 'paradigms': 0.09090909090909091, 'including': 0.09090909090909091, 'structured': 0.09090909090909091, 'particularly': 0.09090909090909091, 'procedural': 0.09090909090909091, 'functional': 0.09090909090909091, 'described': 0.09090909090909091, 'batteries': 0.09090909090909091, 'included': 0.09090909090909091, 'comprehensive': 0.09090909090909091, 'standard': 0.09090909090909091, 'library.[31': 0.09090909090909091, 'Guido': 0.09090909090909091, 'van': 0.09090909090909091, 'Rossum': 0.09090909090909091, 'began': 0.09090909090909091, 'working': 0.09090909090909091, 'late': 0.09090909090909091, '1980s': 0.09090909090909091, 'successor': 0.09090909090909091, 'ABC': 0.09090909090909091, 'released': 0.2727272727272727, '1991': 0.09090909090909091, '0.9.0.[32': 0.09090909090909091, '2.0': 0.09090909090909091, '2000': 0.09090909090909091, 'introduced': 0.09090909090909091, 'new': 0.09090909090909091, 'features': 0.09090909090909091, 'list': 0.09090909090909091, 'comprehensions': 0.09090909090909091, 'collection': 0.09090909090909091, 'system': 0.09090909090909091, 'reference': 0.09090909090909091, 'counting': 0.09090909090909091, '3.0': 0.09090909090909091, '2008': 0.09090909090909091, 'major': 0.09090909090909091, 'revision': 0.09090909090909091, 'completely': 0.09090909090909091, 'backward': 0.09090909090909091, 'compatible': 0.09090909090909091, '2': 0.18181818181818182, 'run': 0.09090909090909091, 'unmodified': 0.09090909090909091, '3': 0.09090909090909091, 'discontinued': 0.09090909090909091, 'version': 0.09090909090909091, '2.7.18': 0.09090909090909091, '2020.[33': 0.09090909090909091}\n"
     ]
    }
   ],
   "source": [
    "print(word_frequencies)"
   ]
  },
  {
   "cell_type": "code",
   "execution_count": 41,
   "id": "1c329d3d",
   "metadata": {},
   "outputs": [],
   "source": [
    "#sentence tokenization"
   ]
  },
  {
   "cell_type": "code",
   "execution_count": 42,
   "id": "f9cfadac",
   "metadata": {},
   "outputs": [
    {
     "name": "stdout",
     "output_type": "stream",
     "text": [
      "[\n",
      "Python is an interpreted high-level general-purpose programming language., Python's design philosophy emphasizes code readability with its notable use of significant indentation., Its language constructs as well as its object-oriented approach aim to help programmers write clear, logical code for small and large-scale projects.[30]\n",
      "\n",
      ", Python is dynamically-typed and garbage-collected., It supports multiple programming paradigms, including structured (particularly, procedural), object-oriented and functional programming., Python is often described as a \"batteries included\" language due to its comprehensive standard library.[31]\n",
      "\n",
      ", Guido van Rossum began working on Python in the late 1980s, as a successor to the ABC programming language, and first released it in 1991 as Python 0.9.0.[32], Python 2.0 was released in 2000 and introduced new features, such as list comprehensions and a garbage collection system using reference counting., Python 3.0 was released in 2008 and was a major revision of the language that is not completely backward-compatible and much Python 2 code does not run unmodified on Python 3., Python 2 was discontinued with version 2.7.18 in 2020.[33]\n",
      "]\n"
     ]
    }
   ],
   "source": [
    "sentence_tokens = [sent for sent in doc.sents]\n",
    "print(sentence_tokens)"
   ]
  },
  {
   "cell_type": "code",
   "execution_count": 43,
   "id": "e8364333",
   "metadata": {},
   "outputs": [],
   "source": [
    "#calculating sentence score"
   ]
  },
  {
   "cell_type": "code",
   "execution_count": 46,
   "id": "6ab23b6a",
   "metadata": {},
   "outputs": [],
   "source": [
    "sentence_scores = {}\n",
    "for sent in sentence_tokens:\n",
    "    for word in sent:\n",
    "        if word.text.lower() in word_frequencies.keys():\n",
    "            if sent not in sentence_scores.keys():    #We are just adding the each normalised word frequencies in the words\n",
    "                sentence_scores[sent] = word_frequencies[word.text.lower()]    #then with the maximum value we select the most important sentence\n",
    "            else:\n",
    "                sentence_scores[sent] += word_frequencies[word.text.lower()]"
   ]
  },
  {
   "cell_type": "code",
   "execution_count": 47,
   "id": "a1ca1fcb",
   "metadata": {},
   "outputs": [
    {
     "data": {
      "text/plain": [
       "{\n",
       " Python is an interpreted high-level general-purpose programming language.: 1.2727272727272727,\n",
       " Python's design philosophy emphasizes code readability with its notable use of significant indentation.: 1.0,\n",
       " Its language constructs as well as its object-oriented approach aim to help programmers write clear, logical code for small and large-scale projects.[30]\n",
       " : 2.363636363636363,\n",
       " Python is dynamically-typed and garbage-collected.: 0.4545454545454546,\n",
       " It supports multiple programming paradigms, including structured (particularly, procedural), object-oriented and functional programming.: 1.8181818181818183,\n",
       " Python is often described as a \"batteries included\" language due to its comprehensive standard library.[31]\n",
       " : 1.1818181818181819,\n",
       " Guido van Rossum began working on Python in the late 1980s, as a successor to the ABC programming language, and first released it in 1991 as Python 0.9.0.[32]: 1.8181818181818181,\n",
       " Python 2.0 was released in 2000 and introduced new features, such as list comprehensions and a garbage collection system using reference counting.: 1.4545454545454544,\n",
       " Python 3.0 was released in 2008 and was a major revision of the language that is not completely backward-compatible and much Python 2 code does not run unmodified on Python 3.: 2.090909090909091,\n",
       " Python 2 was discontinued with version 2.7.18 in 2020.[33]: 0.5454545454545455}"
      ]
     },
     "execution_count": 47,
     "metadata": {},
     "output_type": "execute_result"
    }
   ],
   "source": [
    "sentence_scores"
   ]
  },
  {
   "cell_type": "code",
   "execution_count": 49,
   "id": "a518bb1e",
   "metadata": {},
   "outputs": [],
   "source": [
    "#To get the 30 % of sentence with maximum score"
   ]
  },
  {
   "cell_type": "code",
   "execution_count": 50,
   "id": "cd7065c2",
   "metadata": {},
   "outputs": [],
   "source": [
    "from heapq import nlargest"
   ]
  },
  {
   "cell_type": "code",
   "execution_count": 51,
   "id": "f80a494e",
   "metadata": {},
   "outputs": [
    {
     "data": {
      "text/plain": [
       "3"
      ]
     },
     "execution_count": 51,
     "metadata": {},
     "output_type": "execute_result"
    }
   ],
   "source": [
    "select_length = int(len(sentence_tokens)*0.3)\n",
    "select_length"
   ]
  },
  {
   "cell_type": "code",
   "execution_count": 52,
   "id": "b9555b8d",
   "metadata": {},
   "outputs": [],
   "source": [
    "#shift and duble tab\n",
    "summary = nlargest(select_length, sentence_scores, key = sentence_scores.get)"
   ]
  },
  {
   "cell_type": "code",
   "execution_count": 54,
   "id": "58bea9d3",
   "metadata": {},
   "outputs": [
    {
     "data": {
      "text/plain": [
       "[Its language constructs as well as its object-oriented approach aim to help programmers write clear, logical code for small and large-scale projects.[30]\n",
       " ,\n",
       " Python 3.0 was released in 2008 and was a major revision of the language that is not completely backward-compatible and much Python 2 code does not run unmodified on Python 3.,\n",
       " It supports multiple programming paradigms, including structured (particularly, procedural), object-oriented and functional programming.]"
      ]
     },
     "execution_count": 54,
     "metadata": {},
     "output_type": "execute_result"
    }
   ],
   "source": [
    "summary    #This represents the summary of the text."
   ]
  },
  {
   "cell_type": "code",
   "execution_count": 55,
   "id": "5368e8be",
   "metadata": {},
   "outputs": [],
   "source": [
    "#Now combining these sentences togethers\n"
   ]
  },
  {
   "cell_type": "code",
   "execution_count": 56,
   "id": "aa513e40",
   "metadata": {},
   "outputs": [],
   "source": [
    "final_summary = [word.text for word in summary]"
   ]
  },
  {
   "cell_type": "code",
   "execution_count": 57,
   "id": "03096aab",
   "metadata": {},
   "outputs": [
    {
     "data": {
      "text/plain": [
       "['Its language constructs as well as its object-oriented approach aim to help programmers write clear, logical code for small and large-scale projects.[30]\\n\\n',\n",
       " 'Python 3.0 was released in 2008 and was a major revision of the language that is not completely backward-compatible and much Python 2 code does not run unmodified on Python 3.',\n",
       " 'It supports multiple programming paradigms, including structured (particularly, procedural), object-oriented and functional programming.']"
      ]
     },
     "execution_count": 57,
     "metadata": {},
     "output_type": "execute_result"
    }
   ],
   "source": [
    "final_summary"
   ]
  },
  {
   "cell_type": "code",
   "execution_count": 58,
   "id": "3493588b",
   "metadata": {},
   "outputs": [],
   "source": [
    "summary= ''.join(final_summary)"
   ]
  },
  {
   "cell_type": "code",
   "execution_count": 59,
   "id": "6ccc2ea4",
   "metadata": {},
   "outputs": [
    {
     "data": {
      "text/plain": [
       "'Its language constructs as well as its object-oriented approach aim to help programmers write clear, logical code for small and large-scale projects.[30]\\n\\nPython 3.0 was released in 2008 and was a major revision of the language that is not completely backward-compatible and much Python 2 code does not run unmodified on Python 3.It supports multiple programming paradigms, including structured (particularly, procedural), object-oriented and functional programming.'"
      ]
     },
     "execution_count": 59,
     "metadata": {},
     "output_type": "execute_result"
    }
   ],
   "source": [
    "summary"
   ]
  },
  {
   "cell_type": "code",
   "execution_count": 60,
   "id": "987a674b",
   "metadata": {},
   "outputs": [],
   "source": [
    "summary= ' '.join(final_summary)"
   ]
  },
  {
   "cell_type": "code",
   "execution_count": 61,
   "id": "ae32c1bf",
   "metadata": {},
   "outputs": [
    {
     "data": {
      "text/plain": [
       "'Its language constructs as well as its object-oriented approach aim to help programmers write clear, logical code for small and large-scale projects.[30]\\n\\n Python 3.0 was released in 2008 and was a major revision of the language that is not completely backward-compatible and much Python 2 code does not run unmodified on Python 3. It supports multiple programming paradigms, including structured (particularly, procedural), object-oriented and functional programming.'"
      ]
     },
     "execution_count": 61,
     "metadata": {},
     "output_type": "execute_result"
    }
   ],
   "source": [
    "summary"
   ]
  },
  {
   "cell_type": "code",
   "execution_count": 64,
   "id": "8bd9710b",
   "metadata": {},
   "outputs": [
    {
     "name": "stdout",
     "output_type": "stream",
     "text": [
      "\n",
      "Python is an interpreted high-level general-purpose programming language. Python's design philosophy emphasizes code readability with its notable use of significant indentation. Its language constructs as well as its object-oriented approach aim to help programmers write clear, logical code for small and large-scale projects.[30]\n",
      "\n",
      "Python is dynamically-typed and garbage-collected. It supports multiple programming paradigms, including structured (particularly, procedural), object-oriented and functional programming. Python is often described as a \"batteries included\" language due to its comprehensive standard library.[31]\n",
      "\n",
      "Guido van Rossum began working on Python in the late 1980s, as a successor to the ABC programming language, and first released it in 1991 as Python 0.9.0.[32] Python 2.0 was released in 2000 and introduced new features, such as list comprehensions and a garbage collection system using reference counting. Python 3.0 was released in 2008 and was a major revision of the language that is not completely backward-compatible and much Python 2 code does not run unmodified on Python 3. Python 2 was discontinued with version 2.7.18 in 2020.[33]\n",
      "\n"
     ]
    }
   ],
   "source": [
    "print(text)"
   ]
  },
  {
   "cell_type": "code",
   "execution_count": 65,
   "id": "a2b75723",
   "metadata": {
    "scrolled": true
   },
   "outputs": [
    {
     "name": "stdout",
     "output_type": "stream",
     "text": [
      "Its language constructs as well as its object-oriented approach aim to help programmers write clear, logical code for small and large-scale projects.[30]\n",
      "\n",
      " Python 3.0 was released in 2008 and was a major revision of the language that is not completely backward-compatible and much Python 2 code does not run unmodified on Python 3. It supports multiple programming paradigms, including structured (particularly, procedural), object-oriented and functional programming.\n"
     ]
    }
   ],
   "source": [
    "print(summary)"
   ]
  },
  {
   "cell_type": "code",
   "execution_count": 66,
   "id": "126fffcd",
   "metadata": {},
   "outputs": [
    {
     "data": {
      "text/plain": [
       "1172"
      ]
     },
     "execution_count": 66,
     "metadata": {},
     "output_type": "execute_result"
    }
   ],
   "source": [
    "len(text)"
   ]
  },
  {
   "cell_type": "code",
   "execution_count": 67,
   "id": "f99c2da6",
   "metadata": {},
   "outputs": [
    {
     "data": {
      "text/plain": [
       "468"
      ]
     },
     "execution_count": 67,
     "metadata": {},
     "output_type": "execute_result"
    }
   ],
   "source": [
    "len(summary)"
   ]
  }
 ],
 "metadata": {
  "kernelspec": {
   "display_name": "Python 3",
   "language": "python",
   "name": "python3"
  },
  "language_info": {
   "codemirror_mode": {
    "name": "ipython",
    "version": 3
   },
   "file_extension": ".py",
   "mimetype": "text/x-python",
   "name": "python",
   "nbconvert_exporter": "python",
   "pygments_lexer": "ipython3",
   "version": "3.8.8"
  }
 },
 "nbformat": 4,
 "nbformat_minor": 5
}
