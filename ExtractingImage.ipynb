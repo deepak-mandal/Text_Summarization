{
 "cells": [
  {
   "cell_type": "code",
   "execution_count": 1,
   "id": "091618b5",
   "metadata": {},
   "outputs": [],
   "source": [
    "import requests\n",
    "from bs4 import BeautifulSoup\n",
    "import os"
   ]
  },
  {
   "cell_type": "code",
   "execution_count": 52,
   "id": "928d449d",
   "metadata": {},
   "outputs": [],
   "source": [
    "#url = \"https://www.airbnb.co.in/s/Mumbai--Maharashtra/homes?tab_id=home_tab&refinement_paths%5B%5D=%2Fhomes&flexible_trip_dates%5B%5D=july&flexible_trip_dates%5B%5D=june&date_picker_type=flexible_dates&query=Mumbai%2C%20Maharashtra&place_id=ChIJwe1EZjDG5zsRaYxkjY_tpF0&flexible_trip_lengths%5B%5D=weekend_trip&disable_auto_translation=false&source=structured_search_input_header&search_type=autocomplete_click\"\n",
    "#url=\"https://iitg.ac.in/\"\n",
    "url=\"https://www.airbnb.co.in/s/Ljubljana--Slovenia/homes?tab_id=home_tab&refinement_paths%5B%5D=%2Fhomes&flexible_trip_dates%5B%5D=july&flexible_trip_dates%5B%5D=june&flexible_trip_lengths%5B%5D=weekend_trip&date_picker_type=calendar&query=Ljubljana%2C%20Slovenia&place_id=ChIJ0YaYlvUxZUcRIOw_ghz4AAQ&checkin=2021-06-16&checkout=2021-06-17&disable_auto_translation=false&source=structured_search_input_header&search_type=autocomplete_click\"\n",
    "#url=\"https://datavault.link/why-did-we-launch-datavault/\""
   ]
  },
  {
   "cell_type": "code",
   "execution_count": 53,
   "id": "eb0fa6ac",
   "metadata": {},
   "outputs": [],
   "source": [
    "r = requests.get(url)"
   ]
  },
  {
   "cell_type": "code",
   "execution_count": 54,
   "id": "566c8fbd",
   "metadata": {},
   "outputs": [],
   "source": [
    "#creaing soup\n",
    "soup = BeautifulSoup(r.text, 'html.parser')"
   ]
  },
  {
   "cell_type": "code",
   "execution_count": 55,
   "id": "8815c6db",
   "metadata": {},
   "outputs": [],
   "source": [
    "images = soup.find_all('img')"
   ]
  },
  {
   "cell_type": "code",
   "execution_count": 56,
   "id": "63a19117",
   "metadata": {},
   "outputs": [
    {
     "name": "stdout",
     "output_type": "stream",
     "text": [
      "[<img alt=\"\" aria-hidden=\"true\" class=\"_91slf2a\" data-original-uri=\"https://a0.muscache.com/im/pictures/f6a52a80-b710-44e8-8174-f7a88008c2d5.jpg?im_w=720\" src=\"https://a0.muscache.com/im/pictures/f6a52a80-b710-44e8-8174-f7a88008c2d5.jpg?im_w=720\" style=\"object-fit:cover\"/>, <img alt=\"\" aria-hidden=\"true\" class=\"_91slf2a\" data-original-uri=\"https://a0.muscache.com/im/pictures/6ef3cedd-b1c9-4e09-b78f-9cc8ee27aba4.jpg?im_w=720\" src=\"https://a0.muscache.com/im/pictures/6ef3cedd-b1c9-4e09-b78f-9cc8ee27aba4.jpg?im_w=720\" style=\"object-fit:cover\"/>, <img alt=\"\" aria-hidden=\"true\" class=\"_91slf2a\" data-original-uri=\"https://a0.muscache.com/im/pictures/miso/Hosting-39362882/original/7ef419cf-4903-4f27-8149-6644bb8346fe.jpeg?im_w=720\" src=\"https://a0.muscache.com/im/pictures/miso/Hosting-39362882/original/7ef419cf-4903-4f27-8149-6644bb8346fe.jpeg?im_w=720\" style=\"object-fit:cover\"/>, <img alt=\"\" aria-hidden=\"true\" class=\"_91slf2a\" data-original-uri=\"https://a0.muscache.com/im/pictures/e0a65174-3c06-4ac2-bcb2-d2c1e3278526.jpg?im_w=720\" src=\"https://a0.muscache.com/im/pictures/e0a65174-3c06-4ac2-bcb2-d2c1e3278526.jpg?im_w=720\" style=\"object-fit:cover\"/>, <img alt=\"\" aria-hidden=\"true\" class=\"_91slf2a\" data-original-uri=\"https://a0.muscache.com/im/pictures/68ef0fea-4760-45bd-9fa0-1ee390e10698.jpg?im_w=720\" src=\"https://a0.muscache.com/im/pictures/68ef0fea-4760-45bd-9fa0-1ee390e10698.jpg?im_w=720\" style=\"object-fit:cover\"/>, <img alt=\"\" aria-hidden=\"true\" class=\"_91slf2a\" data-original-uri=\"https://a0.muscache.com/im/pictures/901ce8e1-4f30-4a8b-a352-31fe10615a08.jpg?im_w=720\" src=\"https://a0.muscache.com/im/pictures/901ce8e1-4f30-4a8b-a352-31fe10615a08.jpg?im_w=720\" style=\"object-fit:cover\"/>, <img alt=\"\" aria-hidden=\"true\" class=\"_91slf2a\" data-original-uri=\"https://a0.muscache.com/im/pictures/19f23c75-52a7-4a7d-9d0a-6379cb680f62.jpg?im_w=720\" src=\"https://a0.muscache.com/im/pictures/19f23c75-52a7-4a7d-9d0a-6379cb680f62.jpg?im_w=720\" style=\"object-fit:cover\"/>, <img alt=\"\" aria-hidden=\"true\" class=\"_91slf2a\" data-original-uri=\"https://a0.muscache.com/im/pictures/91fbf1fb-fcae-42f6-8060-dc440a522e43.jpg?im_w=720\" src=\"https://a0.muscache.com/im/pictures/91fbf1fb-fcae-42f6-8060-dc440a522e43.jpg?im_w=720\" style=\"object-fit:cover\"/>, <img alt=\"\" aria-hidden=\"true\" class=\"_91slf2a\" data-original-uri=\"https://a0.muscache.com/im/pictures/e34e31c2-f52c-480e-8275-7c91cf038bab.jpg?im_w=720\" src=\"https://a0.muscache.com/im/pictures/e34e31c2-f52c-480e-8275-7c91cf038bab.jpg?im_w=720\" style=\"object-fit:cover\"/>, <img alt=\"\" aria-hidden=\"true\" class=\"_91slf2a\" data-original-uri=\"https://a0.muscache.com/im/pictures/127ff1d5-b2a5-4759-b3fc-7585b2c40f29.jpg?im_w=720\" src=\"https://a0.muscache.com/im/pictures/127ff1d5-b2a5-4759-b3fc-7585b2c40f29.jpg?im_w=720\" style=\"object-fit:cover\"/>, <img alt=\"\" aria-hidden=\"true\" class=\"_91slf2a\" data-original-uri=\"https://a0.muscache.com/im/pictures/ed76f499-b27c-4f82-bb96-7ff540534a22.jpg?im_w=720\" src=\"https://a0.muscache.com/im/pictures/ed76f499-b27c-4f82-bb96-7ff540534a22.jpg?im_w=720\" style=\"object-fit:cover\"/>, <img alt=\"\" aria-hidden=\"true\" class=\"_91slf2a\" data-original-uri=\"https://a0.muscache.com/im/pictures/c12d27de-d2a0-485c-b70a-a65648f7b596.jpg?im_w=720\" src=\"https://a0.muscache.com/im/pictures/c12d27de-d2a0-485c-b70a-a65648f7b596.jpg?im_w=720\" style=\"object-fit:cover\"/>, <img alt=\"\" aria-hidden=\"true\" class=\"_91slf2a\" data-original-uri=\"https://a0.muscache.com/im/pictures/030fd164-d249-41bf-9d97-7f3313b95992.jpg?im_w=720\" src=\"https://a0.muscache.com/im/pictures/030fd164-d249-41bf-9d97-7f3313b95992.jpg?im_w=720\" style=\"object-fit:cover\"/>, <img alt=\"\" aria-hidden=\"true\" class=\"_91slf2a\" data-original-uri=\"https://a0.muscache.com/im/pictures/6156d40e-e011-4b2a-a1e0-a5ecfef2d0b8.jpg?im_w=720\" src=\"https://a0.muscache.com/im/pictures/6156d40e-e011-4b2a-a1e0-a5ecfef2d0b8.jpg?im_w=720\" style=\"object-fit:cover\"/>, <img alt=\"\" aria-hidden=\"true\" class=\"_91slf2a\" data-original-uri=\"https://a0.muscache.com/im/pictures/99298573/bbae5d5f_original.jpg?im_w=720\" src=\"https://a0.muscache.com/im/pictures/99298573/bbae5d5f_original.jpg?im_w=720\" style=\"object-fit:cover\"/>, <img alt=\"\" aria-hidden=\"true\" class=\"_91slf2a\" data-original-uri=\"https://a0.muscache.com/im/pictures/965496db-8fa0-45d9-ad09-e660d2cd1fb9.jpg?im_w=720\" src=\"https://a0.muscache.com/im/pictures/965496db-8fa0-45d9-ad09-e660d2cd1fb9.jpg?im_w=720\" style=\"object-fit:cover\"/>, <img alt=\"\" aria-hidden=\"true\" class=\"_91slf2a\" data-original-uri=\"https://a0.muscache.com/im/pictures/432222e6-bee7-4264-a2c5-0c202ac2f4ae.jpg?im_w=720\" src=\"https://a0.muscache.com/im/pictures/432222e6-bee7-4264-a2c5-0c202ac2f4ae.jpg?im_w=720\" style=\"object-fit:cover\"/>, <img alt=\"\" aria-hidden=\"true\" class=\"_91slf2a\" data-original-uri=\"https://a0.muscache.com/im/pictures/c2f71e88-0062-4707-a621-856a3aac2644.jpg?im_w=720\" src=\"https://a0.muscache.com/im/pictures/c2f71e88-0062-4707-a621-856a3aac2644.jpg?im_w=720\" style=\"object-fit:cover\"/>, <img alt=\"\" aria-hidden=\"true\" class=\"_91slf2a\" data-original-uri=\"https://a0.muscache.com/im/pictures/miso/Hosting-24426828/original/0142752e-a17e-409a-9afa-fd882785f0c9.png?im_w=720\" src=\"https://a0.muscache.com/im/pictures/miso/Hosting-24426828/original/0142752e-a17e-409a-9afa-fd882785f0c9.png?im_w=720\" style=\"object-fit:cover\"/>, <img alt=\"\" aria-hidden=\"true\" class=\"_91slf2a\" data-original-uri=\"https://a0.muscache.com/im/pictures/8ab30ebb-1d4b-47d2-82ca-aabab925d6d1.jpg?im_w=720\" src=\"https://a0.muscache.com/im/pictures/8ab30ebb-1d4b-47d2-82ca-aabab925d6d1.jpg?im_w=720\" style=\"object-fit:cover\"/>, <img alt=\"\" aria-hidden=\"true\" class=\"_91slf2a\" data-original-uri=\"https://a0.muscache.com/im/pictures/f5d481b3-5451-4e7e-bf70-9efef4ace583.jpg?im_w=720\" src=\"https://a0.muscache.com/im/pictures/f5d481b3-5451-4e7e-bf70-9efef4ace583.jpg?im_w=720\" style=\"object-fit:cover\"/>, <img alt=\"\" aria-hidden=\"true\" class=\"_91slf2a\" data-original-uri=\"https://a0.muscache.com/im/pictures/425c990b-41f5-4e38-a05f-96e61b8cc4ca.jpg?im_w=720\" src=\"https://a0.muscache.com/im/pictures/425c990b-41f5-4e38-a05f-96e61b8cc4ca.jpg?im_w=720\" style=\"object-fit:cover\"/>, <img alt=\"\" aria-hidden=\"true\" class=\"_91slf2a\" data-original-uri=\"https://a0.muscache.com/im/pictures/a6d3f290-10be-4c0c-9393-a4543224b8df.jpg?im_w=720\" src=\"https://a0.muscache.com/im/pictures/a6d3f290-10be-4c0c-9393-a4543224b8df.jpg?im_w=720\" style=\"object-fit:cover\"/>]\n"
     ]
    }
   ],
   "source": [
    "print(images)"
   ]
  },
  {
   "cell_type": "code",
   "execution_count": 59,
   "id": "93518799",
   "metadata": {
    "scrolled": true
   },
   "outputs": [
    {
     "name": "stdout",
     "output_type": "stream",
     "text": [
      "  :  https://a0.muscache.com/im/pictures/f6a52a80-b710-44e8-8174-f7a88008c2d5.jpg?im_w=720\n",
      "  :  https://a0.muscache.com/im/pictures/6ef3cedd-b1c9-4e09-b78f-9cc8ee27aba4.jpg?im_w=720\n",
      "  :  https://a0.muscache.com/im/pictures/miso/Hosting-39362882/original/7ef419cf-4903-4f27-8149-6644bb8346fe.jpeg?im_w=720\n",
      "  :  https://a0.muscache.com/im/pictures/e0a65174-3c06-4ac2-bcb2-d2c1e3278526.jpg?im_w=720\n",
      "  :  https://a0.muscache.com/im/pictures/68ef0fea-4760-45bd-9fa0-1ee390e10698.jpg?im_w=720\n",
      "  :  https://a0.muscache.com/im/pictures/901ce8e1-4f30-4a8b-a352-31fe10615a08.jpg?im_w=720\n",
      "  :  https://a0.muscache.com/im/pictures/19f23c75-52a7-4a7d-9d0a-6379cb680f62.jpg?im_w=720\n",
      "  :  https://a0.muscache.com/im/pictures/91fbf1fb-fcae-42f6-8060-dc440a522e43.jpg?im_w=720\n",
      "  :  https://a0.muscache.com/im/pictures/e34e31c2-f52c-480e-8275-7c91cf038bab.jpg?im_w=720\n",
      "  :  https://a0.muscache.com/im/pictures/127ff1d5-b2a5-4759-b3fc-7585b2c40f29.jpg?im_w=720\n",
      "  :  https://a0.muscache.com/im/pictures/ed76f499-b27c-4f82-bb96-7ff540534a22.jpg?im_w=720\n",
      "  :  https://a0.muscache.com/im/pictures/c12d27de-d2a0-485c-b70a-a65648f7b596.jpg?im_w=720\n",
      "  :  https://a0.muscache.com/im/pictures/030fd164-d249-41bf-9d97-7f3313b95992.jpg?im_w=720\n",
      "  :  https://a0.muscache.com/im/pictures/6156d40e-e011-4b2a-a1e0-a5ecfef2d0b8.jpg?im_w=720\n",
      "  :  https://a0.muscache.com/im/pictures/99298573/bbae5d5f_original.jpg?im_w=720\n",
      "  :  https://a0.muscache.com/im/pictures/965496db-8fa0-45d9-ad09-e660d2cd1fb9.jpg?im_w=720\n",
      "  :  https://a0.muscache.com/im/pictures/432222e6-bee7-4264-a2c5-0c202ac2f4ae.jpg?im_w=720\n",
      "  :  https://a0.muscache.com/im/pictures/c2f71e88-0062-4707-a621-856a3aac2644.jpg?im_w=720\n",
      "  :  https://a0.muscache.com/im/pictures/miso/Hosting-24426828/original/0142752e-a17e-409a-9afa-fd882785f0c9.png?im_w=720\n",
      "  :  https://a0.muscache.com/im/pictures/8ab30ebb-1d4b-47d2-82ca-aabab925d6d1.jpg?im_w=720\n",
      "  :  https://a0.muscache.com/im/pictures/f5d481b3-5451-4e7e-bf70-9efef4ace583.jpg?im_w=720\n",
      "  :  https://a0.muscache.com/im/pictures/425c990b-41f5-4e38-a05f-96e61b8cc4ca.jpg?im_w=720\n",
      "  :  https://a0.muscache.com/im/pictures/a6d3f290-10be-4c0c-9393-a4543224b8df.jpg?im_w=720\n"
     ]
    }
   ],
   "source": [
    "for image in images:\n",
    "    #print(image['src'])\n",
    "    name = image[\"alt\"]\n",
    "    link = image[\"src\"]\n",
    "    \n",
    "    #print(link)\n",
    "    #print(name, \" : \", link)\n",
    "    with open(name.replace(' ', \"-\").replace('/', '') + '.jpg', 'wb') as f:    #write bytes\n",
    "        im = requests.get(link)\n",
    "        f.write(im.content)"
   ]
  },
  {
   "cell_type": "code",
   "execution_count": null,
   "id": "ef66a1b1",
   "metadata": {},
   "outputs": [],
   "source": []
  }
 ],
 "metadata": {
  "kernelspec": {
   "display_name": "Python 3",
   "language": "python",
   "name": "python3"
  },
  "language_info": {
   "codemirror_mode": {
    "name": "ipython",
    "version": 3
   },
   "file_extension": ".py",
   "mimetype": "text/x-python",
   "name": "python",
   "nbconvert_exporter": "python",
   "pygments_lexer": "ipython3",
   "version": "3.8.8"
  }
 },
 "nbformat": 4,
 "nbformat_minor": 5
}
